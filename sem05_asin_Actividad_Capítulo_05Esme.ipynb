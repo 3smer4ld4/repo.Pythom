{
  "cells": [
    {
      "cell_type": "markdown",
      "id": "5ad8356f",
      "metadata": {
        "id": "5ad8356f"
      },
      "source": [
        "# Actividades Capítulo 5.\n",
        "\n",
        "\n",
        "# Algoritmos de clasificación.\n",
        "\n",
        "## Resumen de actividades\n",
        "\n",
        "\n",
        "- **Unidad 27.** Ordenamiento de burbuja, (Bubble Sort) algoritmo de ordenamiento, selección e inserción\n",
        "- **Unidad 28.** Ordenar por selección, ordenamiento por inserción.\n",
        "- **Unidad 29.** Clasificación rápida\n"
      ]
    },
    {
      "cell_type": "markdown",
      "id": "8c5aa9c8",
      "metadata": {
        "id": "8c5aa9c8"
      },
      "source": [
        "# Actividad: Ordenamiento de Burbuja\n",
        "\n",
        "\n",
        "## Instrucciones\n",
        "\n",
        "1. Explique brevemente y en forma clara cómo funciona el algoritmo de ordenamiento de burbuja.\n",
        "\n",
        "2. Desarrollo un función donde se use el ordenamiento de burbuja aplicada a una lista de valores enteros.\n",
        "\n"
      ]
    },
    {
      "cell_type": "markdown",
      "source": [
        "El algoritmo de ordenamiento de burbuja funciona comparando pares de elementos adyacentes en una lista y los intercambia si están en el orden incorrecto. Este proceso se repite hasta que no se realicen más intercambios, indicando que la lista está ordenada. Su complejidad es\n",
        "𝑂(𝑛^2) en el peor caso."
      ],
      "metadata": {
        "id": "dy1PlEa_JUTb"
      },
      "id": "dy1PlEa_JUTb"
    },
    {
      "cell_type": "code",
      "execution_count": 1,
      "id": "90cd2e33",
      "metadata": {
        "id": "90cd2e33",
        "colab": {
          "base_uri": "https://localhost:8080/"
        },
        "outputId": "cb3da18b-0ec2-48bf-a372-d4611c798771"
      },
      "outputs": [
        {
          "output_type": "stream",
          "name": "stdout",
          "text": [
            "Lista original: [64, 34, 25, 12, 22, 11, 90]\n",
            "Lista ordenada: [11, 12, 22, 25, 34, 64, 90]\n"
          ]
        }
      ],
      "source": [
        "def bubble_sort(lista):\n",
        "    \"\"\"\n",
        "    Aplica el algoritmo de ordenamiento de burbuja para ordenar una lista de valores enteros.\n",
        "    Args:\n",
        "        lista (list): Lista de números enteros a ordenar.\n",
        "    Returns:\n",
        "        list: Lista ordenada.\n",
        "    \"\"\"\n",
        "    n = len(lista)\n",
        "    for i in range(n - 1):  # Iterar sobre toda la lista n-1 veces\n",
        "        swapped = False  # Bandera para verificar si hubo algún intercambio\n",
        "        for j in range(n - i - 1):  # Comparar elementos adyacentes hasta el último no ordenado\n",
        "            if lista[j] > lista[j + 1]:  # Si están en el orden incorrecto\n",
        "                # Intercambiar elementos\n",
        "                lista[j], lista[j + 1] = lista[j + 1], lista[j]\n",
        "                swapped = True  # Marcar que se hizo un intercambio\n",
        "        if not swapped:  # Si no se hicieron intercambios, la lista ya está ordenada\n",
        "            break\n",
        "    return lista\n",
        "# Prueba\n",
        "valores = [64, 34, 25, 12, 22, 11, 90]\n",
        "print(\"Lista original:\", valores)\n",
        "print(\"Lista ordenada:\", bubble_sort(valores))"
      ]
    },
    {
      "cell_type": "markdown",
      "id": "a11871f3",
      "metadata": {
        "id": "a11871f3"
      },
      "source": [
        "# Actividad: Función Swap.\n",
        "\n",
        "1. Escriba una función que permita el intercambion de elementos en una lista.\n",
        "2. Los argumentos de esta función serán, la lista y los indices de los elementos que se desean intercambiar.\n",
        "3. En la siguiente celda desarrollo el código requerido, recuerde agregar comentarias breves que expliquen su funcionamiento.\n"
      ]
    },
    {
      "cell_type": "markdown",
      "source": [
        "La función swap toma una lista y dos índices como parámetros y realiza el intercambio de los elementos ubicados en esos índices. Esto es útil en varios algoritmos de ordenamiento."
      ],
      "metadata": {
        "id": "q7QcejBAJyPe"
      },
      "id": "q7QcejBAJyPe"
    },
    {
      "cell_type": "code",
      "execution_count": 2,
      "id": "1e7a5371",
      "metadata": {
        "id": "1e7a5371",
        "colab": {
          "base_uri": "https://localhost:8080/"
        },
        "outputId": "fdb7b97f-4251-42d4-e23d-ad8e1208bd2a"
      },
      "outputs": [
        {
          "output_type": "stream",
          "name": "stdout",
          "text": [
            "Lista original: [1, 2, 3, 4, 5]\n",
            "Lista después del swap: [1, 4, 3, 2, 5]\n"
          ]
        }
      ],
      "source": [
        "def swap(lista, indice1, indice2):\n",
        "    \"\"\"\n",
        "    Intercambia dos elementos de una lista dados sus índices.\n",
        "\n",
        "    Si los índices son válidos y diferentes, realiza el intercambio de los elementos.\n",
        "    Si los índices son iguales o están fuera de rango, se muestra un mensaje adecuado.\n",
        "\n",
        "    Args:\n",
        "        lista (list): Lista donde se realizará el intercambio.\n",
        "        indice1 (int): Índice del primer elemento.\n",
        "        indice2 (int): Índice del segundo elemento.\n",
        "    \"\"\"\n",
        "    # Comprobamos si los índices están dentro del rango válido\n",
        "    if not (0 <= indice1 < len(lista)) or not (0 <= indice2 < len(lista)):\n",
        "        print(\"Error: Índices fuera de rango. No se puede realizar el intercambio.\")\n",
        "        return\n",
        "\n",
        "    # Si los índices son iguales, no se realiza el intercambio\n",
        "    if indice1 == indice2:\n",
        "        print(\"Los índices son iguales. No es necesario realizar el intercambio.\")\n",
        "        return\n",
        "\n",
        "    # Realizamos el intercambio si los índices son válidos y diferentes\n",
        "    lista[indice1], lista[indice2] = lista[indice2], lista[indice1]\n",
        "    print(f\"Elementos intercambiados: {lista[indice1]} y {lista[indice2]}\")\n",
        "\n",
        "# Prueba\n",
        "valores = [1, 2, 3, 4, 5]\n",
        "print(\"Lista original:\", valores)\n",
        "swap(valores, 1, 3)  # Intercambia el segundo y el cuarto elemento\n",
        "print(\"Lista después del swap:\", valores)\n",
        "\n",
        "swap(valores, 2, 2)  # Intenta intercambiar el mismo índice\n"
      ]
    },
    {
      "cell_type": "markdown",
      "id": "a207d974",
      "metadata": {
        "id": "a207d974"
      },
      "source": [
        "\n",
        "# Actividad:\n",
        "\n",
        "1. Explique brevemente el funcionamiento del algoritmo Quick Sort.\n",
        "2. Desarrollo el código para implementar el algoritmo Quick Sort.\n",
        "3. Revise las unidad 29, sección 1.1"
      ]
    },
    {
      "cell_type": "markdown",
      "source": [
        "Quick Sort es un algoritmo de ordenamiento basado en el método de dividir y conquistar.\n",
        "\n",
        "Elige un pivote (puede ser el último elemento, el primero, o uno aleatorio).\n",
        "Divide la lista en dos partes: elementos menores al pivote y elementos mayores o iguales.\n",
        "\n",
        "Ordena las dos partes de forma recursiva.\n",
        "Combina los resultados.\n",
        "\n",
        "Su complejidad promedio es O(nlogn)."
      ],
      "metadata": {
        "id": "a_rCPvWkJ9HO"
      },
      "id": "a_rCPvWkJ9HO"
    },
    {
      "cell_type": "code",
      "execution_count": null,
      "id": "a4f925a4",
      "metadata": {
        "id": "a4f925a4"
      },
      "outputs": [],
      "source": [
        "def quick_sort(lista):\n",
        "    \"\"\"\n",
        "    Implementa el algoritmo Quick Sort para ordenar una lista.\n",
        "\n",
        "    Args:\n",
        "        lista (list): Lista de números a ordenar.\n",
        "    Returns:\n",
        "        list: Lista ordenada.\n",
        "    \"\"\"\n",
        "    # Caso base: si la lista tiene 0 o 1 elementos, ya está ordenada\n",
        "    if len(lista) <= 1:\n",
        "        return lista\n",
        "\n",
        "    # Elegir el pivote: aquí se elige el último elemento como pivote\n",
        "    pivote = lista[-1]\n",
        "\n",
        "    # Crear las listas de elementos menores y mayores al pivote\n",
        "    menores = [x for x in lista[:-1] if x <= pivote]\n",
        "    mayores = [x for x in lista[:-1] if x > pivote]\n",
        "\n",
        "    # Llamadas recursivas a las sublistas y combinación de resultados\n",
        "    return quick_sort(menores) + [pivote] + quick_sort(mayores)\n",
        "\n",
        "# Prueba\n",
        "valores = [10, 7, 8, 9, 1, 5]\n",
        "print(\"Lista original:\", valores)\n",
        "print(\"Lista ordenada:\", quick_sort(valores))"
      ]
    },
    {
      "cell_type": "markdown",
      "id": "26a6bb9e",
      "metadata": {
        "id": "26a6bb9e"
      },
      "source": [
        "# Actividad: Quick Sort usando un valor de pivote aleatorio.\n",
        "\n",
        "1. Explique brevemente el funcionamiento del algoritmo Quick Sort en la modaladidad de usar un valor de pivote aleatorio.\n",
        "2. Comente las ventajas de esta variación.\n",
        "3. Desarrollo el código necesarion para este algoritmo.\n",
        "4. Agregue comentarios sobre su funcionamiento.\n",
        "\n"
      ]
    },
    {
      "cell_type": "markdown",
      "source": [
        "En esta variación, el pivote no es el último o el primer elemento, sino un elemento seleccionado de manera aleatoria. Esto mejora el rendimiento promedio del algoritmo al evitar que la lista se divida de forma desigual en casos adversos, como cuando la lista ya está ordenada o casi ordenada.\n",
        "\n",
        "Ventajas de esta variación:\n",
        "\n",
        "Reduce la probabilidad de elegir un mal pivote en listas adversas.\n",
        "Mejora la eficiencia en el caso promedio, acercándose a O(nlogn) en lugar de O(n^2) en casos peores.\n",
        "\n",
        "Introduce más aleatoriedad, lo que es útil en sistemas distribuidos o de datos no homogéneos."
      ],
      "metadata": {
        "id": "4BjDLAqEKPnR"
      },
      "id": "4BjDLAqEKPnR"
    },
    {
      "cell_type": "code",
      "execution_count": 3,
      "id": "6670eace",
      "metadata": {
        "id": "6670eace",
        "colab": {
          "base_uri": "https://localhost:8080/"
        },
        "outputId": "d3562d90-8763-4fec-ba6a-a94133724219"
      },
      "outputs": [
        {
          "output_type": "stream",
          "name": "stdout",
          "text": [
            "Lista original: [10, 7, 8, 9, 1, 5]\n",
            "Lista ordenada: [1, 5, 7, 8, 9, 10]\n"
          ]
        }
      ],
      "source": [
        "import random\n",
        "\n",
        "def quick_sort_random_pivot(lista):\n",
        "    \"\"\"\n",
        "    Implementa el algoritmo Quick Sort usando un pivote aleatorio.\n",
        "\n",
        "    Args:\n",
        "        lista (list): Lista de números a ordenar.\n",
        "    Returns:\n",
        "        list: Lista ordenada.\n",
        "    \"\"\"\n",
        "    # Caso base: listas con 0 o 1 elementos ya están ordenadas\n",
        "    if len(lista) <= 1:\n",
        "        return lista\n",
        "\n",
        "    # Elegir un pivote aleatorio\n",
        "    pivote_index = random.randint(0, len(lista) - 1)\n",
        "    pivote = lista[pivote_index]\n",
        "\n",
        "    # Dividir la lista en dos: elementos menores y mayores al pivote\n",
        "    menores = [x for i, x in enumerate(lista) if x <= pivote and i != pivote_index]\n",
        "    mayores = [x for i, x in enumerate(lista) if x > pivote]\n",
        "\n",
        "    # Llamadas recursivas y combinación\n",
        "    return quick_sort_random_pivot(menores) + [pivote] + quick_sort_random_pivot(mayores)\n",
        "\n",
        "# Prueba\n",
        "valores = [10, 7, 8, 9, 1, 5]\n",
        "print(\"Lista original:\", valores)\n",
        "print(\"Lista ordenada:\", quick_sort_random_pivot(valores))\n"
      ]
    }
  ],
  "metadata": {
    "kernelspec": {
      "display_name": "Python 3 (ipykernel)",
      "language": "python",
      "name": "python3"
    },
    "language_info": {
      "codemirror_mode": {
        "name": "ipython",
        "version": 3
      },
      "file_extension": ".py",
      "mimetype": "text/x-python",
      "name": "python",
      "nbconvert_exporter": "python",
      "pygments_lexer": "ipython3",
      "version": "3.10.12"
    },
    "colab": {
      "provenance": []
    }
  },
  "nbformat": 4,
  "nbformat_minor": 5
}