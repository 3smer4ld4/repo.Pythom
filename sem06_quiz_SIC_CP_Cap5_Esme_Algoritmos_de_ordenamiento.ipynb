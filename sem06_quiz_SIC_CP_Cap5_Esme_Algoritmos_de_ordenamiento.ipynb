{
  "cells": [
    {
      "cell_type": "markdown",
      "id": "5ad8356f",
      "metadata": {
        "id": "5ad8356f"
      },
      "source": [
        "# Coding and Programming\n",
        "\n",
        "## Capítulo 5\n",
        "\n",
        "### Algoritmos de clasificación\n",
        "\n",
        "- **Unidad 27.** Ordenamiento de burbuja, (Bubble Sort) algoritmo de ordenamiento, selección e inserción\n",
        "- **Unidad 28.** Ordenar por selección, ordenamiento por inserción.\n",
        "- **Unidad 29.** Clasificación rápida\n"
      ]
    },
    {
      "cell_type": "markdown",
      "id": "2e42031a",
      "metadata": {
        "id": "2e42031a"
      },
      "source": [
        "___"
      ]
    },
    {
      "cell_type": "markdown",
      "id": "8c5aa9c8",
      "metadata": {
        "id": "8c5aa9c8"
      },
      "source": [
        "## Q 27-01\n",
        "\n",
        "¿Cuántas comparaciones se ejecutaron en el siguiente proceso de ordenamiento de burbuja?\n",
        "```\n",
        "def bubbleSort(S):\n",
        "    n = len(S)\n",
        "    for i in range(n):\n",
        "        print(S)\n",
        "        for j in range(n-1):\n",
        "            if S[j] > S[j+1]:\n",
        "               S[j] , S[j+1] = S[j+1] , S[j]\n",
        "\n",
        "S = [50, 30, 40, 10, 20]\n",
        "bubbleSort(S)\n",
        "print(S)\n",
        "```\n",
        "#### Output\n",
        "```\n",
        "[50, 30, 40, 10, 20]\n",
        "[30, 40, 10, 20, 50]\n",
        "[30, 10, 20, 40, 50]\n",
        "[10, 20, 30, 40, 50]\n",
        "[10, 20, 30, 40, 50]\n",
        "[10, 20, 30, 40, 50]\n",
        "```"
      ]
    },
    {
      "cell_type": "markdown",
      "id": "ac65e987",
      "metadata": {
        "id": "ac65e987"
      },
      "source": [
        "20"
      ]
    },
    {
      "cell_type": "markdown",
      "id": "07be4f9d",
      "metadata": {
        "id": "07be4f9d"
      },
      "source": [
        "___"
      ]
    },
    {
      "cell_type": "markdown",
      "id": "a11871f3",
      "metadata": {
        "id": "a11871f3"
      },
      "source": [
        "## Q 27-02\n",
        "\n",
        "¿Cuántas comparaciones se ejecutaron en el siguiente proceso de ordenamiento de inserción?\n",
        "```\n",
        "def insertionSort2(S):\n",
        "    n = len(S)\n",
        "    for i in range(1,n):\n",
        "        print(S)\n",
        "        x = S[i]\n",
        "        j = i - 1\n",
        "        while j >= 0 and S[j] > x:\n",
        "            S[j+1] = S[j]\n",
        "            j -= 1\n",
        "        S[j + 1] = x\n",
        "\n",
        "S = [50, 30, 40, 10, 20]\n",
        "insertionSort2(S)\n",
        "print(S)\n",
        "```\n",
        "#### Output\n",
        "```\n",
        "[50, 30, 40, 10, 20]\n",
        "[30, 40, 10, 20, 50]\n",
        "[30, 10, 20, 40, 50]\n",
        "[10, 20, 30, 40, 50]\n",
        "[10, 20, 30, 40, 50]\n",
        "[10, 20, 30, 40, 50]\n",
        "```"
      ]
    },
    {
      "cell_type": "code",
      "execution_count": null,
      "id": "30a1c729",
      "metadata": {
        "id": "30a1c729",
        "outputId": "4df00d93-bf1e-494c-c4fc-9928ee1aee0f"
      },
      "outputs": [
        {
          "name": "stdout",
          "output_type": "stream",
          "text": [
            "[50, 30, 40, 10, 20]\n",
            "[30, 50, 40, 10, 20]\n",
            "[30, 40, 50, 10, 20]\n",
            "[10, 30, 40, 50, 20]\n",
            "[10, 20, 30, 40, 50]\n"
          ]
        }
      ],
      "source": [
        "def insertionSort2(S):\n",
        "    n = len(S)\n",
        "    for i in range(1,n):\n",
        "        print(S)\n",
        "        x = S[i]\n",
        "        j = i - 1\n",
        "        while j >= 0 and S[j] > x:\n",
        "            S[j+1] = S[j]\n",
        "            j -= 1\n",
        "        S[j + 1] = x\n",
        "\n",
        "S = [50, 30, 40, 10, 20]\n",
        "insertionSort2(S)\n",
        "print(S)"
      ]
    },
    {
      "cell_type": "markdown",
      "source": [
        "11 creo"
      ],
      "metadata": {
        "id": "YajsEiQfht0T"
      },
      "id": "YajsEiQfht0T"
    },
    {
      "cell_type": "markdown",
      "id": "05c7586b",
      "metadata": {
        "id": "05c7586b"
      },
      "source": [
        "___"
      ]
    },
    {
      "cell_type": "markdown",
      "id": "a207d974",
      "metadata": {
        "id": "a207d974"
      },
      "source": [
        "## Q 28-01\n",
        "\n",
        "¿Cuántas veces se ejecuta la función `merge2()` en el siguiente proceso de ordenamiento por fusión?\n",
        "```\n",
        "S = [6,2,11,7,5,4,8,16,10,3]\n",
        "mergeSort2(S, 0, len(S)-1)\n",
        "print(S)\n",
        "```"
      ]
    },
    {
      "cell_type": "markdown",
      "source": [
        "7"
      ],
      "metadata": {
        "id": "Y_d4GU32iAEl"
      },
      "id": "Y_d4GU32iAEl"
    },
    {
      "cell_type": "markdown",
      "id": "f0d1a419",
      "metadata": {
        "id": "f0d1a419"
      },
      "source": [
        "___"
      ]
    },
    {
      "cell_type": "markdown",
      "id": "26a6bb9e",
      "metadata": {
        "id": "26a6bb9e"
      },
      "source": [
        "## Q 29-01\n",
        "\n",
        "Dada la lista a continuación, escriba la salida después de ejecutar la función `partition1()`\n",
        "```\n",
        "S = [15,10,12,20,25,13,22]\n",
        "partition1(S, 0, len(S)-1)\n",
        "print(S)\n",
        "```\n",
        "#### Output\n",
        "```\n",
        "[15,10,12,20,25,13,22] 0 6 pivot = 15\n",
        "...\n",
        "```\n"
      ]
    },
    {
      "cell_type": "markdown",
      "id": "5c53b843",
      "metadata": {
        "id": "5c53b843"
      },
      "source": [
        "___"
      ]
    },
    {
      "cell_type": "markdown",
      "source": [
        "La lista sería [13, 10, 12, 15, 25, 20, 22]"
      ],
      "metadata": {
        "id": "6IOJKBtiiOVC"
      },
      "id": "6IOJKBtiiOVC"
    },
    {
      "cell_type": "markdown",
      "id": "896ee09a",
      "metadata": {
        "id": "896ee09a"
      },
      "source": [
        "# Fin"
      ]
    }
  ],
  "metadata": {
    "kernelspec": {
      "display_name": "Python 3 (ipykernel)",
      "language": "python",
      "name": "python3"
    },
    "language_info": {
      "codemirror_mode": {
        "name": "ipython",
        "version": 3
      },
      "file_extension": ".py",
      "mimetype": "text/x-python",
      "name": "python",
      "nbconvert_exporter": "python",
      "pygments_lexer": "ipython3",
      "version": "3.10.12"
    },
    "colab": {
      "provenance": []
    }
  },
  "nbformat": 4,
  "nbformat_minor": 5
}